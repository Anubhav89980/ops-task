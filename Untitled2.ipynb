{
 "cells": [
  {
   "cell_type": "code",
   "execution_count": null,
   "id": "22d0f4c6-201a-4b26-a343-85090e2d56da",
   "metadata": {},
   "outputs": [],
   "source": []
  },
  {
   "cell_type": "code",
   "execution_count": 11,
   "id": "53f0969d-9fcd-4451-a742-dbd3737d3039",
   "metadata": {},
   "outputs": [
    {
     "name": "stdout",
     "output_type": "stream",
     "text": [
      "Woof!\n"
     ]
    }
   ],
   "source": [
    "#3\n",
    "class Animal:\n",
    "    def speak(self):\n",
    "        pass\n",
    "\n",
    "\n",
    "class Mammal:\n",
    "    def run(self):\n",
    "        pass\n",
    "\n",
    "\n",
    "class Dog(Animal, Mammal):\n",
    "    def speak(self):\n",
    "        return \"Woof!\"\n",
    "\n",
    "\n",
    "my_dog = Dog()\n",
    "\n",
    "print(my_dog.speak())  \n",
    "my_dog.run()  \n"
   ]
  },
  {
   "cell_type": "code",
   "execution_count": 12,
   "id": "856dd408-262f-4c2a-9702-f6be7128c07f",
   "metadata": {},
   "outputs": [
    {
     "name": "stdout",
     "output_type": "stream",
     "text": [
      "Car: Car, Max Speed: 120, Average Speed: 70\n",
      "Truck: Truck, Max Speed: 80, Average Speed: 55\n"
     ]
    }
   ],
   "source": [
    "#1\n",
    "class Vehicle:\n",
    "  \"\"\"\n",
    "  A class representing a generic vehicle.\n",
    "\n",
    "  Attributes:\n",
    "    name_of_vehicle: The name of the vehicle.\n",
    "    max_speed: The maximum speed of the vehicle.\n",
    "    average_speed: The average speed of the vehicle.\n",
    "  \"\"\"\n",
    "\n",
    "  def __init__(self, name_of_vehicle, max_speed, average_speed):\n",
    "    \"\"\"\n",
    "    Initializes a new Vehicle object.\n",
    "\n",
    "    Args:\n",
    "      name_of_vehicle: The name of the vehicle.\n",
    "      max_speed: The maximum speed of the vehicle.\n",
    "      average_speed: The average speed of the vehicle.\n",
    "    \"\"\"\n",
    "    self.name_of_vehicle = name_of_vehicle\n",
    "    self.max_speed = max_speed\n",
    "    self.average_speed = average_speed\n",
    "\n",
    "# Create some example vehicles\n",
    "car = Vehicle(\"Car\", 120, 70)\n",
    "truck = Vehicle(\"Truck\", 80, 55)\n",
    "\n",
    "# Print information about the vehicles\n",
    "print(f\"Car: {car.name_of_vehicle}, Max Speed: {car.max_speed}, Average Speed: {car.average_speed}\")\n",
    "print(f\"Truck: {truck.name_of_vehicle}, Max Speed: {truck.max_speed}, Average Speed: {truck.average_speed}\")\n"
   ]
  },
  {
   "cell_type": "code",
   "execution_count": 14,
   "id": "0e30bd70-9883-468c-abd4-cf99ef8c86e2",
   "metadata": {},
   "outputs": [
    {
     "name": "stdout",
     "output_type": "stream",
     "text": [
      "Sedan by ABC Motors has a seating capacity of 5 people.\n"
     ]
    }
   ],
   "source": [
    "#2\n",
    "class Vehicle:\n",
    "    def __init__(self, name, fuel_type):\n",
    "        self.name = name\n",
    "        self.fuel_type = fuel_type\n",
    "\n",
    "    def display_info(self):\n",
    "        return f\"Vehicle: {self.name}, Fuel Type: {self.fuel_type}\"\n",
    "\n",
    "\n",
    "class Car(Vehicle):\n",
    "    def __init__(self, name, fuel_type, brand):\n",
    "        # Call the constructor of the base class (Vehicle)\n",
    "        super().__init__(name, fuel_type)\n",
    "        self.brand = brand\n",
    "\n",
    "    def seating_capacity(self, capacity):\n",
    "        return f\"{self.name} by {self.brand} has a seating capacity of {capacity} people.\"\n",
    "\n",
    "\n",
    "my_car = Car(name=\"Sedan\", fuel_type=\"Gasoline\", brand=\"ABC Motors\")\n",
    "\n",
    "\n",
    "\n",
    "\n",
    "capacity_result = my_car.seating_capacity(5)\n",
    "print(capacity_result)\n"
   ]
  },
  {
   "cell_type": "code",
   "execution_count": 15,
   "id": "3cc9bb29-852b-49f5-aee2-42ca2598b379",
   "metadata": {},
   "outputs": [
    {
     "name": "stdout",
     "output_type": "stream",
     "text": [
      "Value of my_attribute: 42\n"
     ]
    }
   ],
   "source": [
    "#4\n",
    "class MyClass:\n",
    "    def __init__(self):\n",
    "        \n",
    "        self._my_attribute = None\n",
    "\n",
    "    \n",
    "    def get_my_attribute(self):\n",
    "        return self._my_attribute\n",
    "\n",
    "    \n",
    "    def set_my_attribute(self, value):\n",
    "        if value < 0:\n",
    "            print(\"Warning: Value cannot be negative. Setting to 0.\")\n",
    "            self._my_attribute = 0\n",
    "        else:\n",
    "            self._my_attribute = value\n",
    "\n",
    "\n",
    "obj = MyClass()\n",
    "\n",
    "\n",
    "obj.set_my_attribute(42)\n",
    "\n",
    "\n",
    "value = obj.get_my_attribute()\n",
    "print(\"Value of my_attribute:\", value)\n"
   ]
  },
  {
   "cell_type": "code",
   "execution_count": null,
   "id": "34550f05-0449-40df-a8d1-4f245a3f9654",
   "metadata": {},
   "outputs": [],
   "source": [
    "#5\n",
    "class Animal:\n",
    "    def speak(self):\n",
    "        return \"Generic animal sound\"\n",
    "\n",
    "\n",
    "class Dog(Animal):\n",
    "    def speak(self):\n",
    "        return \"Woof!\"\n",
    "\n",
    "\n",
    "class Cat(Animal):\n",
    "    def speak(self):\n",
    "        return \"Meow!\"\n",
    "\n",
    "\n",
    "def animal_speak(animal_instance):\n",
    "    return animal_instance.speak()\n",
    "\n",
    "generic_animal = Animal()\n",
    "dog = Dog()\n",
    "cat = Cat()\n",
    "\n",
    "\n",
    "print(animal_speak(generic_animal))  # Output: Generic animal sound\n",
    "print(animal_speak(dog))             # Output: Woof!\n",
    "print(animal_speak(cat))             # Output: \n"
   ]
  }
 ],
 "metadata": {
  "kernelspec": {
   "display_name": "Python 3 (ipykernel)",
   "language": "python",
   "name": "python3"
  },
  "language_info": {
   "codemirror_mode": {
    "name": "ipython",
    "version": 3
   },
   "file_extension": ".py",
   "mimetype": "text/x-python",
   "name": "python",
   "nbconvert_exporter": "python",
   "pygments_lexer": "ipython3",
   "version": "3.10.8"
  }
 },
 "nbformat": 4,
 "nbformat_minor": 5
}
